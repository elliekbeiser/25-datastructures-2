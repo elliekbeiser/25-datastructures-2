{
 "cells": [
  {
   "cell_type": "code",
   "execution_count": 52,
   "metadata": {},
   "outputs": [],
   "source": [
    "class Node:\n",
    "    def __init__(self, name):\n",
    "        self.name = name\n",
    "        self.next = None"
   ]
  },
  {
   "cell_type": "code",
   "execution_count": 53,
   "metadata": {},
   "outputs": [],
   "source": [
    "node1 = Node(\"Zakary\")\n",
    "node2 = Node(\"Rory\")\n",
    "node3 = Node(\"Dave\")\n",
    "node4 = Node(\"Alvin\")\n",
    "node5 = Node(\"Earl\")\n",
    "node6 = Node(\"Radar\")"
   ]
  },
  {
   "cell_type": "code",
   "execution_count": 89,
   "metadata": {},
   "outputs": [],
   "source": [
    "class LinkedList:\n",
    "    def __init__(self, name):\n",
    "        self.name = name\n",
    "        self.head = None\n",
    "\n",
    "    def add(self, value):\n",
    "        new_node = Node(value)\n",
    "        if not self.head:\n",
    "            self.head = new_node\n",
    "        else:\n",
    "            current = self.head\n",
    "            while current.next:\n",
    "                current = current.next\n",
    "            current.next = new_node\n",
    "\n",
    "    \n",
    "    def print_it(self):\n",
    "        current = self.head\n",
    "        if not current:\n",
    "            print(\"The list is empty!\")\n",
    "        else:\n",
    "            while current:\n",
    "                print(current.name)\n",
    "                current = current.next"
   ]
  },
  {
   "cell_type": "code",
   "execution_count": 91,
   "metadata": {},
   "outputs": [
    {
     "ename": "TypeError",
     "evalue": "LinkedList.__init__() missing 1 required positional argument: 'name'",
     "output_type": "error",
     "traceback": [
      "\u001b[0;31m---------------------------------------------------------------------------\u001b[0m",
      "\u001b[0;31mTypeError\u001b[0m                                 Traceback (most recent call last)",
      "Cell \u001b[0;32mIn[91], line 1\u001b[0m\n\u001b[0;32m----> 1\u001b[0m \u001b[38;5;28mlist\u001b[39m \u001b[38;5;241m=\u001b[39m \u001b[43mLinkedList\u001b[49m\u001b[43m(\u001b[49m\u001b[43m)\u001b[49m\n",
      "\u001b[0;31mTypeError\u001b[0m: LinkedList.__init__() missing 1 required positional argument: 'name'"
     ]
    }
   ],
   "source": [
    "list = LinkedList()"
   ]
  },
  {
   "cell_type": "code",
   "execution_count": 92,
   "metadata": {},
   "outputs": [
    {
     "ename": "TypeError",
     "evalue": "LinkedList.__init__() missing 1 required positional argument: 'name'",
     "output_type": "error",
     "traceback": [
      "\u001b[0;31m---------------------------------------------------------------------------\u001b[0m",
      "\u001b[0;31mTypeError\u001b[0m                                 Traceback (most recent call last)",
      "Cell \u001b[0;32mIn[92], line 1\u001b[0m\n\u001b[0;32m----> 1\u001b[0m \u001b[38;5;28mlist\u001b[39m \u001b[38;5;241m=\u001b[39m \u001b[43mLinkedList\u001b[49m\u001b[43m(\u001b[49m\u001b[43m)\u001b[49m\n\u001b[1;32m      2\u001b[0m \u001b[38;5;28mlist\u001b[39m\u001b[38;5;241m.\u001b[39madd(\u001b[38;5;124m\"\u001b[39m\u001b[38;5;124mZakary\u001b[39m\u001b[38;5;124m\"\u001b[39m)\n\u001b[1;32m      3\u001b[0m \u001b[38;5;28mlist\u001b[39m\u001b[38;5;241m.\u001b[39madd(\u001b[38;5;124m\"\u001b[39m\u001b[38;5;124mRory\u001b[39m\u001b[38;5;124m\"\u001b[39m)\n",
      "\u001b[0;31mTypeError\u001b[0m: LinkedList.__init__() missing 1 required positional argument: 'name'"
     ]
    }
   ],
   "source": [
    "list = LinkedList()\n",
    "list.add(\"Zakary\")\n",
    "list.add(\"Rory\")\n",
    "list.add(\"Dave\")\n",
    "list.add(\"Alvin\")\n",
    "list.add(\"Earl\")\n",
    "list.add(\"Radar\")"
   ]
  },
  {
   "cell_type": "code",
   "execution_count": 57,
   "metadata": {},
   "outputs": [
    {
     "name": "stdout",
     "output_type": "stream",
     "text": [
      "Zakary\n",
      "Dave\n"
     ]
    }
   ],
   "source": [
    "print(list.head.name)\n",
    "print(list.head.next.next.name)"
   ]
  },
  {
   "cell_type": "code",
   "execution_count": 86,
   "metadata": {},
   "outputs": [
    {
     "name": "stdout",
     "output_type": "stream",
     "text": [
      "Zakary\n",
      "Rory\n",
      "Dave\n",
      "Alvin\n",
      "Earl\n",
      "Radar\n"
     ]
    }
   ],
   "source": [
    "list.print_it()"
   ]
  },
  {
   "cell_type": "code",
   "execution_count": 108,
   "metadata": {},
   "outputs": [],
   "source": [
    "class Node:\n",
    "    '''\n",
    "    A class representing a node in a linked list.\n",
    "    Attributes:\n",
    "        name (str): The name of the customer.\n",
    "        next (Node): A reference to the next node in the list.\n",
    "    '''\n",
    "    def __init__(self, name):\n",
    "        self.name = name\n",
    "        self.next = None\n",
    "\n",
    "class LinkedList:\n",
    "    '''\n",
    "    A class representing a linked list to manage a waitlist.\n",
    "    Attributes:\n",
    "        head (Node): The first node in the linked list.\n",
    "    Methods:\n",
    "        add_front(name): Adds a customer to the front of the waitlist.\n",
    "        add_end(name): Adds a customer to the end of the waitlist.\n",
    "        remove(name): Removes a customer from the waitlist by name.\n",
    "        print_list(): Prints the current waitlist.\n",
    "    '''\n",
    "    def __init__(self):\n",
    "        self.head = None\n",
    "\n",
    "    def add_front(self,name):\n",
    "        new_node = Node(name)\n",
    "        new_node.next = self.head\n",
    "        self.head = new_node\n",
    "\n",
    "    def add_end(self,name):\n",
    "        new_node = Node(name)\n",
    "        if not self.head:\n",
    "            self.head = new_node\n",
    "        else:\n",
    "            current = self.head\n",
    "            while current.next:\n",
    "                current = current.next\n",
    "            current.next = new_node\n",
    "\n",
    "    def remove(self,name):\n",
    "        if not self.head:\n",
    "            print(f'{name} not found')\n",
    "            return\n",
    "        if self.head.name == name:\n",
    "            self.head = self.head.next\n",
    "            return\n",
    "        current = self.head\n",
    "        while current.next:\n",
    "            if current.next.name == name:\n",
    "                current.next = current.next.next\n",
    "                return\n",
    "            current = current.next\n",
    "\n",
    "\n",
    "    def print_list(self,name):\n",
    "        current = self.head\n",
    "        if not current:\n",
    "            print(\"The list is empty!\")\n",
    "        else:\n",
    "            print(\"Waitlist:\")\n",
    "            while current:\n",
    "                print(f'{current.name}')\n",
    "                current = current.next\n"
   ]
  },
  {
   "cell_type": "code",
   "execution_count": 109,
   "metadata": {},
   "outputs": [
    {
     "name": "stdout",
     "output_type": "stream",
     "text": [
      "\n",
      "--- Waitlist Manager ---\n",
      "1. Add customer to front\n",
      "2. Add customer to end\n",
      "3. Remove customer by name\n",
      "4. Print waitlist\n",
      "5. Exit\n",
      "\n",
      "--- Waitlist Manager ---\n",
      "1. Add customer to front\n",
      "2. Add customer to end\n",
      "3. Remove customer by name\n",
      "4. Print waitlist\n",
      "5. Exit\n",
      "Current waitlist:\n",
      "Waitlist:\n",
      "Juice\n",
      "\n",
      "--- Waitlist Manager ---\n",
      "1. Add customer to front\n",
      "2. Add customer to end\n",
      "3. Remove customer by name\n",
      "4. Print waitlist\n",
      "5. Exit\n",
      "\n",
      "--- Waitlist Manager ---\n",
      "1. Add customer to front\n",
      "2. Add customer to end\n",
      "3. Remove customer by name\n",
      "4. Print waitlist\n",
      "5. Exit\n",
      "\n",
      "--- Waitlist Manager ---\n",
      "1. Add customer to front\n",
      "2. Add customer to end\n",
      "3. Remove customer by name\n",
      "4. Print waitlist\n",
      "5. Exit\n",
      "Current waitlist:\n",
      "Waitlist:\n",
      "Zak\n",
      "Juice\n",
      "Fred\n",
      "\n",
      "--- Waitlist Manager ---\n",
      "1. Add customer to front\n",
      "2. Add customer to end\n",
      "3. Remove customer by name\n",
      "4. Print waitlist\n",
      "5. Exit\n",
      "\n",
      "--- Waitlist Manager ---\n",
      "1. Add customer to front\n",
      "2. Add customer to end\n",
      "3. Remove customer by name\n",
      "4. Print waitlist\n",
      "5. Exit\n",
      "Current waitlist:\n",
      "Waitlist:\n",
      "Zak\n",
      "Juice\n",
      "\n",
      "--- Waitlist Manager ---\n",
      "1. Add customer to front\n",
      "2. Add customer to end\n",
      "3. Remove customer by name\n",
      "4. Print waitlist\n",
      "5. Exit\n",
      "Exiting waitlist manager.\n"
     ]
    }
   ],
   "source": [
    "def waitlist_generator():\n",
    "    # Create a new linked list instance\n",
    "    \n",
    "    list = LinkedList()\n",
    "    while True:\n",
    "        print(\"\\n--- Waitlist Manager ---\")\n",
    "        print(\"1. Add customer to front\")\n",
    "        print(\"2. Add customer to end\")\n",
    "        print(\"3. Remove customer by name\")\n",
    "        print(\"4. Print waitlist\")\n",
    "        print(\"5. Exit\")\n",
    "        \n",
    "        choice = input(\"Choose an option (1–5): \")\n",
    "        \n",
    "        if choice == \"1\":\n",
    "            name = input(\"Enter customer name to add to front: \")\n",
    "            # Call the add_front method\n",
    "            list.add_front(name)\n",
    "\n",
    "        elif choice == \"2\":\n",
    "            name = input(\"Enter customer name to add to end: \")\n",
    "            # Call the add_end method\n",
    "            list.add_end(name)\n",
    "\n",
    "        elif choice == \"3\":\n",
    "            name = input(\"Enter customer name to remove: \")\n",
    "            # Call the remove method\n",
    "            list.remove(name)\n",
    "            \n",
    "        elif choice == \"4\":\n",
    "            print(\"Current waitlist:\")\n",
    "            # Print out the entire linked list using the print_list method.\n",
    "            list.print_list(name)\n",
    "\n",
    "        elif choice == \"5\":\n",
    "            print(\"Exiting waitlist manager.\")\n",
    "            break\n",
    "        else:\n",
    "            print(\"Invalid option. Please choose 1–5.\")\n",
    "\n",
    "# Call the waitlist_generator function to start the program\n",
    "waitlist_generator()"
   ]
  },
  {
   "cell_type": "code",
   "execution_count": null,
   "metadata": {},
   "outputs": [],
   "source": []
  }
 ],
 "metadata": {
  "kernelspec": {
   "display_name": "Python 3",
   "language": "python",
   "name": "python3"
  },
  "language_info": {
   "codemirror_mode": {
    "name": "ipython",
    "version": 3
   },
   "file_extension": ".py",
   "mimetype": "text/x-python",
   "name": "python",
   "nbconvert_exporter": "python",
   "pygments_lexer": "ipython3",
   "version": "3.13.3"
  }
 },
 "nbformat": 4,
 "nbformat_minor": 2
}
